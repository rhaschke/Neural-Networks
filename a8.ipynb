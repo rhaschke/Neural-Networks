{
 "cells": [
  {
   "cell_type": "markdown",
   "metadata": {},
   "source": [
    "# Convolutional Neural Networks\n",
    "\n",
    "![LeNet5](https://miro.medium.com/max/4308/1*1TI1aGBZ4dybR6__DI9dzA.png)\n",
    "\n",
    "Convolutional Neural Networks are particularly well suited for image classification. In https://www.tensorflow.org/tutorials/images/cnn and https://keras.io/examples/vision/mnist_convnet some well performing examples are given.  \n",
    "1. First, modify the network to include a single convolutional layer, a single pooling layer, and a single fully connected layer only.  (**30%**)  \n",
    "2. Then, incrementally add more complexity and regularization, particularly (**50%**):\n",
    "   1. Implement the network architecture of LeNet5 (shown in the figure).\n",
    "   2. Experiment with other architectures, e.g. getting inspiration from AlexNet.  \n",
    "      AlexNet was designed for much larger input images (227x227) and cannot be applied 1:1 to MNIST images (28x28). Why?\n",
    "   3. Try to further improve the test error. Experiment with regularization and other hyper parameters.\n",
    "      Remember to only use your validation set to tweak your hyper parameters!\n",
    "\n",
    "3. Record training and test accuracies with TensorBoard.  (**10%**)  \n",
    "4. How many parameters have your networks, also compared to a standard 128-64-64-10 MLP network from last sheet?  (**10%**)  \n",
    "   How long does it take to train them?"
   ]
  }
 ],
 "metadata": {
  "language_info": {
   "codemirror_mode": {
    "name": "ipython",
    "version": 3
   },
   "file_extension": ".py",
   "mimetype": "text/x-python",
   "name": "python",
   "nbconvert_exporter": "python",
   "pygments_lexer": "ipython3",
   "version": 3
  },
  "orig_nbformat": 2,
  "accelerator": "GPU",
  "kernelspec": {
   "name": "python3",
   "display_name": "Python 3"
  },
  "colab": {
   "name": "CNNs",
   "provenance": [],
   "collapsed_sections": [
    "Tynpiod0flPF",
    "sUmzV32tMjAH",
    "zpkVt2EGMr8c",
    "FlWcaSZ5NqpZ",
    "ft3PktQ9ecFi",
    "4HiRxowSi77E"
   ]
  }
 },
 "nbformat": 4,
 "nbformat_minor": 2
}