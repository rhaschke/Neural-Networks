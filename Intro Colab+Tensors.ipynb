{
	"cells": [
		{
			"cell_type": "markdown",
			"metadata": {},
			"source": [
				"# 392028 Introduction to Neural Networks\n",
				"Copyright 2020 Riza Velioglu, 2024 Robert Haschke, Bielefeld University"
			]
		},
		{
			"cell_type": "markdown",
			"metadata": {},
			"source": [
				"## I. Introduction to Google Colab"
			]
		},
		{
			"cell_type": "markdown",
			"metadata": {},
			"source": [
				"Colaboratory is a free Jupyter notebook environment that requires no setup and runs entirely in the cloud.\n",
				"\n",
				"With Colaboratory you can write and execute code, save and share your analyses, and access powerful computing resources, all for free from your browser. See the [video](https://www.youtube.com/watch?v=inN8seMm7UI) to get an overview of the key features of Colaboratory.\n",
				"The document you are reading is a  [Jupyter notebook](https://jupyter.org/), hosted in Colaboratory. \n",
				"It is not a static page, but an interactive environment that lets you write and execute code in Python (and other languages). Explanatory text is provided by markdown.\n",
				"\n",
				"For example, here is a **code cell** with a short Python script that computes a value, stores it in a variable, and prints the result:"
			]
		},
		{
			"cell_type": "code",
			"execution_count": null,
			"metadata": {},
			"outputs": [],
			"source": [
				"seconds_in_a_day = 24 * 60 * 60\n",
				"seconds_in_a_day"
			]
		},
		{
			"cell_type": "markdown",
			"metadata": {},
			"source": [
				"To execute the code in the above cell, select it with a click and\n",
				"- press the play button to the left of the code,\n",
				"- or use the keyboard shortcut \"Command/Ctrl+Enter\".\n",
				"\n",
				"All cells modify the same global state, so variables that you define by executing a cell can be used in other cells:"
			]
		},
		{
			"cell_type": "code",
			"execution_count": null,
			"metadata": {},
			"outputs": [],
			"source": [
				"seconds_in_a_week = 7 * seconds_in_a_day\n",
				"seconds_in_a_week"
			]
		},
		{
			"cell_type": "markdown",
			"metadata": {},
			"source": [
				"What does Colab offer?\n",
				"- Zero configuration required\n",
				"- Easy sharing\n",
				"- Clone GitHub repositories\n",
				"- Import/Share notebooks from Drive\n",
				"- Import external datasets, e.g.from Kaggle\n",
				"- Integrate PyTorch, TensorFlow, Keras, OpenCV\n",
				"- Free access to GPUs!!\n",
				"\n",
				"To get more about Colaboratory check the following tutorials:\n",
				"- [Google Colaboratory](https://colab.research.google.com/notebooks/basic_features_overview.ipynb)\n",
				"- [Tutorialspoint](https://www.tutorialspoint.com/google_colab/index.htm)"
			]
		},
		{
			"cell_type": "markdown",
			"metadata": {},
			"source": [
				"---\n",
				"### A little more on Colab"
			]
		},
		{
			"cell_type": "markdown",
			"metadata": {},
			"source": [
				"- Installing packages\n",
				"- Cloning GitHub repositories\n",
				"- Mounting Google Drive\n",
				"- Changing the Hardware Accelerator\n",
				"- Importing Datasets (Kaggle, Drive, GitHub, etc.)"
			]
		},
		{
			"cell_type": "code",
			"execution_count": null,
			"metadata": {},
			"outputs": [],
			"source": [
				"!pip install numpy"
			]
		},
		{
			"cell_type": "code",
			"execution_count": null,
			"metadata": {},
			"outputs": [],
			"source": [
				"!git clone https://github.com/rhaschke/Neural-Networks"
			]
		},
		{
			"cell_type": "code",
			"execution_count": null,
			"metadata": {},
			"outputs": [],
			"source": [
				"!ls                          # execute shell command"
			]
		},
		{
			"cell_type": "code",
			"execution_count": null,
			"metadata": {},
			"outputs": [],
			"source": [
				"import os                    # import package os\n",
				"os.chdir(\"Neural-Networks\")\n",
				"!pwd\n",
				"!ls"
			]
		},
		{
			"cell_type": "markdown",
			"metadata": {},
			"source": [
				"### Specifying the TensorFlow version\n",
				"\n",
				"Running `import tensorflow` will import the default version (currently 2.x). As of 2024, Colab doesn't support TensorFlow 1.x anymore."
			]
		},
		{
			"cell_type": "code",
			"execution_count": null,
			"metadata": {},
			"outputs": [],
			"source": [
				"import tensorflow\n",
				"print(tensorflow.__version__)"
			]
		},
		{
			"cell_type": "markdown",
			"metadata": {},
			"source": [
				"Further reading: [Introduction to Google Colab](https://colab.research.google.com/notebooks/welcome.ipynb)"
			]
		},
		{
			"cell_type": "markdown",
			"metadata": {},
			"source": [
				"## II. Introduction to Python"
			]
		},
		{
			"cell_type": "markdown",
			"metadata": {},
			"source": [
				"Python is a popular programming language. It was created by Guido van Rossum, and released in 1991.\n",
				"\n",
				"<img src=\"https://codeevalx.files.wordpress.com/2011/09/infographpercent-002-scaled1000.jpg\" alt=\"Most popular programming languages\" style=\"width:400px;\"/>\n",
				"\n",
				"Python is:\n",
				"- interpreted\n",
				"- imperative and object-oriented\n",
				"- strongly, but dynamically typed\n",
				"  - strong: each variable has a unique type and that type matters for operations on it\n",
				"  - dynamic: the type is only determined at runtime\n",
				"- code is very readable, similar to pseudo-code  \n",
				"  scopes are represented by indentation (fewer braces)"
			]
		},
		{
			"cell_type": "code",
			"execution_count": null,
			"metadata": {},
			"outputs": [],
			"source": [
				"def quicksort(array):                         # function definition\n",
				"    if len(array) <= 1:\n",
				"        return array                          # if-scope by indentation\n",
				"    pivot = array[len(array) // 2]            # // is integer division\n",
				"    left = [x for x in array if x < pivot]    # list comprehension\n",
				"    middle = [x for x in array if x == pivot]\n",
				"    right = [x for x in array if x > pivot]\n",
				"    return quicksort(left) + middle + quicksort(right)"
			]
		},
		{
			"cell_type": "markdown",
			"metadata": {},
			"source": [
				"Python has no strict visibility modifiers (public, protected, private)  \n",
				"An underscore _ indicates intended visibility, but this is not enforced:\n",
				"- _protected\n",
				"- __private\n",
				"\n",
				"### Function arguments: positional args vs. keyword args"
			]
		},
		{
			"cell_type": "code",
			"execution_count": null,
			"metadata": {},
			"outputs": [],
			"source": [
				"def f(a, b, c, d=4, e=\"foo\"):\n",
				"    pass   # no-op statement\n",
				"\n",
				"# these are all identical:\n",
				"f(1, 2, 3)            # 3 positional args, 2 defaults\n",
				"f(1, 2, 3, 4, \"foo\")  # all positional args\n",
				"f(1, c=3, b=2)        # 1 positional, 2 keyword, 2 default args\n",
				"\n",
				"# syntax error\n",
				"f(1, c=3, 2)          # positional args must not follow keyword args\n",
				"\n",
				"\n",
				"def g(a, b, c, *args, **kwargs):\n",
				"    # args (a list) captures all positional args except the first 3\n",
				"    # kwargs (a dict) captures all keyword args other than a,b,c\n",
				"    pass"
			]
		},
		{
			"cell_type": "markdown",
			"metadata": {},
			"source": [
				"### Lists"
			]
		},
		{
			"cell_type": "code",
			"execution_count": null,
			"metadata": {},
			"outputs": [
				{
					"name": "stdout",
					"output_type": "stream",
					"text": [
						"[0, 1, 2, 3, 4, 5, 6, 7, 8, 9]\n",
						"range(0, 10)\n",
						"[0, 1, 2, 3, 4, 5, 6, 7, 8, 9]\n"
					]
				}
			],
			"source": [
				"l = [0, 1, 2, 3, 4, 5, 6, 7, 8, 9]\n",
				"print(l)\n",
				"l = range(10)       # range returns a generator object\n",
				"print(l)\n",
				"l = list(range(10)) # but we can convert it to a list\n",
				"print(l)"
			]
		},
		{
			"cell_type": "markdown",
			"metadata": {},
			"source": [
				"#### List comprehensions"
			]
		},
		{
			"cell_type": "code",
			"execution_count": 4,
			"metadata": {},
			"outputs": [
				{
					"name": "stdout",
					"output_type": "stream",
					"text": [
						"[0, 1, 4, 9, 16, 25, 36, 49, 64, 81]\n"
					]
				}
			],
			"source": [
				"numbers = list(range(10))\n",
				"squares = []\n",
				"for i in numbers:        # for loops are terribly slow\n",
				"    squares.append(i**2)\n",
				"\n",
				"# faster and shorter via list comprehension\n",
				"squares = [i**2 for i in numbers]\n",
				"print(squares)"
			]
		},
		{
			"cell_type": "markdown",
			"metadata": {},
			"source": [
				"### Slicing"
			]
		},
		{
			"cell_type": "code",
			"execution_count": null,
			"metadata": {},
			"outputs": [
				{
					"name": "stdout",
					"output_type": "stream",
					"text": [
						"[1, 2]\n",
						"[1, 3, 5, 7, 9]\n",
						"[1, 3, 5, 7, 9]\n",
						"[0, 2, 4, 6, 8]\n",
						"[9, 8, 7, 6, 5, 4, 3, 2, 1, 0]\n",
						"[8, 9]\n",
						"[0, 2, 4]\n"
					]
				}
			],
			"source": [
				"print(numbers[1:3])\n",
				"print(numbers[1:10:2])  # start, stop, step\n",
				"print(numbers[1::2])    # omitting stop -> every second element, starting from the second\n",
				"print(numbers[::2])     # omitting start and stop -> every second element, starting from the first\n",
				"print(numbers[::-1])    # negative step -> reverse list\n",
				"print(numbers[-2:])     # negative start/stop -> count from the end\n",
				"s = slice(0, 5, 2)      # slice object\n",
				"print(numbers[s])"
			]
		},
		{
			"cell_type": "markdown",
			"metadata": {},
			"source": [
				"## III. Data representations for neural networks"
			]
		},
		{
			"cell_type": "markdown",
			"metadata": {},
			"source": [
				"In general, all current machine-learning systems use tensors as their basic data structure. Tensors are fundamental to the field—so fundamental that Google’s TensorFlow was named after them. So what’s a tensor?\n",
				"\n",
				"At its core, a tensor is a container for data—almost always numerical data. So, it’s a container for numbers. You may be already familiar with matrices, which are 2D tensors: tensors are a generalization of matrices to an arbitrary number of dimensions (note that in the context of tensors, a dimension is often called an axis)."
			]
		},
		{
			"cell_type": "markdown",
			"metadata": {},
			"source": [
				"### **Scalars (0D Tensors)**"
			]
		},
		{
			"cell_type": "markdown",
			"metadata": {},
			"source": [
				"A tensor that contains only one number is called a *scalar* (or scalar tensor, or 0-dimensional tensor, or 0D tensor). In Numpy, a `float32` or `float64` number is a scalar tensor (or scalar array). You can display the number of axes of a Numpy tensor via the `ndim` attribute; a scalar tensor has 0 axes (`ndim == 0`). The number of axes of a tensor is also called its `rank`. Here’s a Numpy scalar:"
			]
		},
		{
			"cell_type": "code",
			"execution_count": null,
			"metadata": {},
			"outputs": [
				{
					"data": {
						"text/plain": [
							"array(12)"
						]
					},
					"execution_count": 1,
					"metadata": {},
					"output_type": "execute_result"
				}
			],
			"source": [
				"import numpy as np\n",
				"x = np.array(12)\n",
				"x"
			]
		},
		{
			"cell_type": "code",
			"execution_count": null,
			"metadata": {},
			"outputs": [
				{
					"data": {
						"text/plain": [
							"0"
						]
					},
					"execution_count": 2,
					"metadata": {},
					"output_type": "execute_result"
				}
			],
			"source": [
				"x.ndim"
			]
		},
		{
			"cell_type": "markdown",
			"metadata": {},
			"source": [
				"### **Vectors (1D Tensors)**"
			]
		},
		{
			"cell_type": "markdown",
			"metadata": {},
			"source": [
				"An array of numbers is called a *vector*, or 1D tensor. A 1D tensor is said to have exactly one axis. Following is a Numpy vector:"
			]
		},
		{
			"cell_type": "code",
			"execution_count": null,
			"metadata": {},
			"outputs": [
				{
					"data": {
						"text/plain": [
							"array([12,  3,  6, 14])"
						]
					},
					"execution_count": 3,
					"metadata": {},
					"output_type": "execute_result"
				}
			],
			"source": [
				"x = np.array([12, 3, 6, 14])\n",
				"x"
			]
		},
		{
			"cell_type": "code",
			"execution_count": null,
			"metadata": {},
			"outputs": [
				{
					"data": {
						"text/plain": [
							"1"
						]
					},
					"execution_count": 4,
					"metadata": {},
					"output_type": "execute_result"
				}
			],
			"source": [
				"x.ndim"
			]
		},
		{
			"cell_type": "markdown",
			"metadata": {},
			"source": [
				"This vector has five entries and so is called a *5-dimensional vector*. Don’t confuse a 5D vector with a 5D tensor! A 5D vector has only one axis and has five dimensions along its axis, whereas a 5D tensor has five axes (and may have any number of dimensions along each axis). *Dimensionality* can denote either the number of entries along a specific axis (as in the case of our 5D vector) or the number of axes in a tensor (such as a 5D tensor), which can be confusing at times. In the latter case, it’s technically more correct to talk about *a tensor of rank 5* (the rank of a tensor being the number of axes), but the ambiguous notation *5D tensor* is common regardless."
			]
		},
		{
			"cell_type": "markdown",
			"metadata": {},
			"source": [
				"### **Matrices (2D tensors)**"
			]
		},
		{
			"cell_type": "markdown",
			"metadata": {},
			"source": [
				"An array of vectors is a *matrix*, or 2D tensor. A matrix has two axes (often referred to *rows* and *columns*). You can visually interpret a matrix as a rectangular grid of numbers. This is a Numpy matrix:"
			]
		},
		{
			"cell_type": "code",
			"execution_count": null,
			"metadata": {},
			"outputs": [
				{
					"data": {
						"text/plain": [
							"2"
						]
					},
					"execution_count": 5,
					"metadata": {},
					"output_type": "execute_result"
				}
			],
			"source": [
				"x = np.array([[5, 78, 2, 34, 0],\n",
				"              [6, 79, 3, 35, 1],\n",
				"              [7, 80, 4, 36, 2]])\n",
				"\n",
				"x.ndim"
			]
		},
		{
			"cell_type": "markdown",
			"metadata": {},
			"source": [
				"The entries from the first axis are called the *rows*, and the entries from the second axis are called the *columns*. In the previous example, $[5, 78, 2, 34, 0]$ is the first row of $x$, and $[5, 6, 7]$ is the first column."
			]
		},
		{
			"cell_type": "markdown",
			"metadata": {},
			"source": [
				"### **3D tensors and higher-dimensional tensors**"
			]
		},
		{
			"cell_type": "markdown",
			"metadata": {},
			"source": [
				"If you pack such matrices in a new array, you obtain a 3D tensor, which you can visually interpret as a cube of numbers. Following is a Numpy 3D tensor:"
			]
		},
		{
			"cell_type": "code",
			"execution_count": null,
			"metadata": {},
			"outputs": [
				{
					"data": {
						"text/plain": [
							"3"
						]
					},
					"execution_count": 6,
					"metadata": {},
					"output_type": "execute_result"
				}
			],
			"source": [
				"x = np.array([[[5, 78, 2, 34, 0],\n",
				"               [6, 79, 3, 35, 1],\n",
				"               [7, 80, 4, 36, 2]],\n",
				"              [[5, 78, 2, 34, 0],\n",
				"               [6, 79, 3, 35, 1],\n",
				"               [7, 80, 4, 36, 2]],\n",
				"              [[5, 78, 2, 34, 0],\n",
				"               [6, 79, 3, 35, 1],\n",
				"               [7, 80, 4, 36, 2]]])\n",
				"\n",
				"x.ndim"
			]
		},
		{
			"cell_type": "markdown",
			"metadata": {},
			"source": [
				"By packing 3D tensors in an array, you can create a 4D tensor, and so on. In deep learning, you’ll generally manipulate tensors that are 0D to 4D, although you may go up to 5D if you process video data. \n",
				"\n",
				"\n",
				"\n",
				"> Here's a figure visualizing tensors:\n",
				"![tensors](https://res.cloudinary.com/practicaldev/image/fetch/s--VaxrSdrA--/c_limit%2Cf_auto%2Cfl_progressive%2Cq_auto%2Cw_880/https://thepracticaldev.s3.amazonaws.com/i/bp6ux6ppf5t5amwkxklq.jpg)\n",
				"\n"
			]
		},
		{
			"cell_type": "markdown",
			"metadata": {},
			"source": [
				"### **Key attributes**"
			]
		},
		{
			"cell_type": "markdown",
			"metadata": {},
			"source": [
				"A tensor is defined by three key attributes:\n",
				"\n",
				"- *Number of axes (rank)*—For instance, a 3D tensor has three axes, and a matrix has two axes. This is also called the tensor’s `ndim` in Python libraries such as Numpy.\n",
				"\n",
				"- *Shape*—This is a tuple of integers that describes how many dimensions the tensor has along each axis. For instance, the previous matrix example has shape $(3, 5)$, and the 3D tensor example has shape $(3, 3, 5)$. A vector has a shape with a single element, such as $(5,)$, whereas a scalar has an empty shape, $()$.\n",
				"\n",
				"-  *Data type* (usually called `dtype` in Python libraries)—This is the type of the data contained in the tensor; for instance, a tensor’s type could be `float32`, `uint8`, `float64`, and so on. On rare occasions, you may see a `char` tensor. Note that string tensors don’t exist in Numpy (or in most other libraries), because tensors live in preallocated, contiguous memory segments: and strings, being variable length, would preclude the use of this implementation.\n",
				"\n",
				"\n",
				"> To make this more concrete, let’s look at the MNIST data set representing handwritten digits. First, we load the dataset:"
			]
		},
		{
			"cell_type": "code",
			"execution_count": null,
			"metadata": {},
			"outputs": [
				{
					"name": "stderr",
					"output_type": "stream",
					"text": [
						"Using TensorFlow backend.\n"
					]
				},
				{
					"name": "stdout",
					"output_type": "stream",
					"text": [
						"Downloading data from https://s3.amazonaws.com/img-datasets/mnist.npz\n",
						"11493376/11490434 [==============================] - 2s 0us/step\n"
					]
				}
			],
			"source": [
				"from keras.datasets import mnist\n",
				"(train_images, train_labels), (test_images, test_labels) = mnist.load_data()"
			]
		},
		{
			"cell_type": "code",
			"execution_count": null,
			"metadata": {},
			"outputs": [
				{
					"name": "stdout",
					"output_type": "stream",
					"text": [
						"3\n"
					]
				}
			],
			"source": [
				"# Next, we display the number of axes of the tensor train_images, the ndim attribute:\n",
				"print(train_images.ndim)"
			]
		},
		{
			"cell_type": "code",
			"execution_count": null,
			"metadata": {},
			"outputs": [
				{
					"name": "stdout",
					"output_type": "stream",
					"text": [
						"(60000, 28, 28)\n"
					]
				}
			],
			"source": [
				"# Here's its shape\n",
				"print(train_images.shape)"
			]
		},
		{
			"cell_type": "code",
			"execution_count": null,
			"metadata": {},
			"outputs": [
				{
					"name": "stdout",
					"output_type": "stream",
					"text": [
						"uint8\n"
					]
				}
			],
			"source": [
				"# And this is its data type, the dtype attribute:\n",
				"print(train_images.dtype)"
			]
		},
		{
			"cell_type": "markdown",
			"metadata": {},
			"source": [
				"So what we have here is a 3D tensor of 8-bit integers. More precisely, it’s an array of 60,000 matrices of 28 × 28 integers. Each such matrix is a grayscale image, with coefficients between 0 and 255. \n",
				"\n",
				"Let’s display some digits in this 3D tensor, using the library *Matplotlib* (part of the standard scientific Python suite) and let's also use *ipywidgets* to get an interactive output! Feel free to play with the slider to get different samples from `train_images`"
			]
		},
		{
			"cell_type": "code",
			"execution_count": null,
			"metadata": {},
			"outputs": [
				{
					"data": {
						"application/vnd.jupyter.widget-view+json": {
							"model_id": "5292665001f74267b1acf04179610c34",
							"version_major": 2,
							"version_minor": 0
						},
						"text/plain": [
							"interactive(children=(IntSlider(value=30000, description='n', max=60000), Output()), _dom_classes=('widget-int…"
						]
					},
					"metadata": {},
					"output_type": "display_data"
				},
				{
					"data": {
						"text/plain": [
							"<function __main__.plot_digit>"
						]
					},
					"execution_count": 11,
					"metadata": {},
					"output_type": "execute_result"
				}
			],
			"source": [
				"from ipywidgets import interact\n",
				"import matplotlib.pyplot as plt\n",
				"\n",
				"\n",
				"def plot_digit(n):\n",
				"    plt.imshow(train_images[n], cmap=plt.cm.binary)\n",
				"    plt.show()\n",
				"\n",
				"# Since we have 60k samples, define the slider size accordingly: (min, max, step)\n",
				"interact(plot_digit, n=(0, 60000, 1))"
			]
		},
		{
			"cell_type": "markdown",
			"metadata": {},
			"source": [
				"---\n",
				"\n",
				"***Source Alert***\n",
				"\n",
				"- Please open [this notebook](https://colab.research.google.com/github/ageron/handson-ml2/blob/master/tools_matplotlib.ipynb#scrollTo=fFxS6UQsuAAc) for a detailed introduction to [`matplotlib`](https://matplotlib.org), _the_ plotting library for Python, by [Aurélien Geron](https://twitter.com/aureliengeron?ref_src=twsrc%5Egoogle%7Ctwcamp%5Eserp%7Ctwgr%5Eauthor)\n",
				"\n",
				"- Open this notebook [this notebook](https://colab.research.google.com/notebooks/widgets.ipynb#scrollTo=P6xc9QVFSlrw) for Colab `widgets` and [this notebook](https://colab.research.google.com/notebooks/forms.ipynb#scrollTo=eFN7-fUKs-Bu) to learn more about how Jupyter Widgets can be used in Colab.\n",
				"\n",
				"---\n"
			]
		},
		{
			"cell_type": "markdown",
			"metadata": {},
			"source": [
				"### **Manipulating tensors in Numpy**"
			]
		},
		{
			"cell_type": "markdown",
			"metadata": {},
			"source": [
				"In the previous example, we selected a specific digit alongside the first axis using the syntax `train_images[i]`. Selecting specific elements in a tensor is called ***tensor slicing***. Let’s look at the tensor-slicing operations you can do on Numpy arrays.\n",
				"\n",
				"The following example selects digits #10 to #100 (#100 isn’t included) and puts them in an array of shape $(90, 28, 28)$:"
			]
		},
		{
			"cell_type": "code",
			"execution_count": null,
			"metadata": {},
			"outputs": [
				{
					"name": "stdout",
					"output_type": "stream",
					"text": [
						"(90, 28, 28)\n"
					]
				}
			],
			"source": [
				"my_slice = train_images[10:100]\n",
				"print(my_slice.shape)"
			]
		},
		{
			"cell_type": "markdown",
			"metadata": {},
			"source": [
				"It’s equivalent to this more detailed notation, which specifies a *start index* and *stop index* for the slice along each tensor axis. Note that $:$ is equivalent to selecting the entire axis:"
			]
		},
		{
			"cell_type": "code",
			"execution_count": null,
			"metadata": {},
			"outputs": [
				{
					"data": {
						"text/plain": [
							"(90, 28, 28)"
						]
					},
					"execution_count": 13,
					"metadata": {},
					"output_type": "execute_result"
				}
			],
			"source": [
				"# Equivalent to the previous example\n",
				"my_slice = train_images[10:100, :, :]\n",
				"my_slice.shape"
			]
		},
		{
			"cell_type": "code",
			"execution_count": null,
			"metadata": {},
			"outputs": [
				{
					"data": {
						"text/plain": [
							"(90, 28, 28)"
						]
					},
					"execution_count": 14,
					"metadata": {},
					"output_type": "execute_result"
				}
			],
			"source": [
				"# Also equivalent to the previous example\n",
				"my_slice = train_images[10:100, 0:28, 0:28]\n",
				"my_slice.shape"
			]
		},
		{
			"cell_type": "markdown",
			"metadata": {},
			"source": [
				"### **The notion of data batches**"
			]
		},
		{
			"cell_type": "markdown",
			"metadata": {},
			"source": [
				"In general, the first axis (axis 0, because indexing starts at 0) in all data tensors you’ll come across in deep learning will be the samples axis (sometimes called the samples dimension). In the MNIST example, samples are images of digits.\n",
				"\n",
				"In addition, deep-learning models don’t process an entire dataset at once; rather, they break the data into small ***batches***. Concretely, here’s one batch of our MNIST digits, with batch size of 128:"
			]
		},
		{
			"cell_type": "code",
			"execution_count": null,
			"metadata": {},
			"outputs": [],
			"source": [
				"batch = train_images[:128]\n",
				"\n",
				"# And here's the next batch\n",
				"batch = train_images[128:256]\n",
				"\n",
				"# And the nth batch\n",
				"n = 10\n",
				"batch = train_images[128 * n:128 * (n + 1)]"
			]
		},
		{
			"cell_type": "markdown",
			"metadata": {},
			"source": [
				"Datasets splitted into individual batches are stored in a so called ***batch tensor***, whose first axis (axis 0) is called the ***batch axis*** or ***batch dimension***. This is a term you’ll frequently encounter when using Keras and other deep-learning libraries."
			]
		},
		{
			"cell_type": "markdown",
			"metadata": {},
			"source": [
				"### **Real-world examples of data tensors**"
			]
		},
		{
			"cell_type": "markdown",
			"metadata": {},
			"source": [
				"Let’s make data tensors more concrete with a few examples similar to what you’ll encounter later. The data you’ll manipulate will almost always fall into one of the following categories:\n",
				"\n",
				"- *Vector data*—**2D** tensors of shape $(samples, features)$\n",
				"\n",
				"- *Timeseries data* or *sequence data*—**3D** tensors of shape $(samples, timesteps, features)$\n",
				"\n",
				"- *Images*—**4D** tensors of shape $(samples, height, width, channels)$ or $(samples, channels, height, width)$\n",
				"\n",
				"- *Video*—**5D** tensors of shape $(samples, frames, height, width, channels)$ or $(samples, frames, channels, height, width)$"
			]
		},
		{
			"cell_type": "markdown",
			"metadata": {},
			"source": [
				"### Vector data"
			]
		},
		{
			"cell_type": "markdown",
			"metadata": {},
			"source": [
				"This is the most common case. In such a dataset, each single data point can be encoded as a vector, and thus a batch of data will be encoded as a 2D tensor (that is, an array of vectors), where the first axis is the *samples* axis and the second axis is the *features* axis. \n",
				"\n",
				"Let’s take a look at two examples:\n",
				"\n",
				"- A dataset of text documents, where we represent each document by the counts of how many times each word appears in it (out of a dictionary of 20,000 common words). Each document can be encoded as a vector of 20,000 values (one count per word in the dictionary), and thus an entire dataset of 500 documents can be stored in a tensor of shape $(500, 20000)$."
			]
		},
		{
			"cell_type": "markdown",
			"metadata": {},
			"source": [
				"### Timeseries data or sequence data"
			]
		},
		{
			"cell_type": "markdown",
			"metadata": {},
			"source": [
				"Whenever time matters in your data (or the notion of sequence order), it makes sense to store it in a 3D tensor with an explicit time axis. Each sample can be encoded as a sequence of vectors (a 2D tensor), and thus a batch of data will be encoded as a 3D tensor.\n",
				"\n",
				"- A dataset of tweets, where we encode each tweet as a sequence of $280$ characters out of an alphabet of $128$ unique characters. In this setting, each character can be encoded as a binary vector of size $128$ (an all-zeros vector except for a 1 entry at the index corresponding to the character). Then each tweet can be encoded as a 2D tensor of shape $(280, 128)$, and a dataset of 1 million tweets can be stored in a tensor of shape $(1000000, 280, 128)$."
			]
		},
		{
			"cell_type": "markdown",
			"metadata": {},
			"source": [
				"### Image data"
			]
		},
		{
			"cell_type": "markdown",
			"metadata": {},
			"source": [
				"Images typically have three dimensions: height, width, and color depth. Although grayscale images (like our MNIST digits) have only a single color channel and could thus be stored in 2D tensors, by convention image tensors are always 3D, with a onedimensional color channel for grayscale images. A batch of $128$ grayscale images of size $256 × 256$ could thus be stored in a tensor of shape $(128, 256, 256, 1)$, and a batch of $128$ color images could be stored in a tensor of shape $(128, 256, 256, 3)$"
			]
		},
		{
			"cell_type": "markdown",
			"metadata": {},
			"source": [
				"---\n",
				"## IV. Tensor Operations"
			]
		},
		{
			"cell_type": "markdown",
			"metadata": {},
			"source": [
				"Much as any computer program can be ultimately reduced to a small set of binary operations on binary inputs (AND, OR, NOR, and so on), all transformations learned by deep neural networks can be reduced to a handful of tensor operations applied to tensors of numeric data. For instance, it’s possible to add tensors, multiply tensors, and so on.\n",
				"\n",
				"Let's build a perceptron, i.e. a neural network composed from a single network layer. A Keras layer instance looks like this: \n",
				"\n",
				"> `keras.layers.Dense(512, activation='relu')`\n",
				"\n",
				"This layer can be interpreted as a function, which takes as input a 2D tensor and returns another 2D tensor—a new representation for the input tensor. Specifically, the function is as follows (where W is a 2D tensor and b is a vector, both attributes of the\n",
				"layer):\n",
				"\n",
				"> `output = relu(dot(W, input) + b)`\n",
				"\n",
				"Let’s unpack this. We have three tensor operations here: a dot product ($dot$) between the input tensor and a tensor named $W$; an addition ($+$) between the resulting 2D tensor and a vector $b$; and, finally, a $relu$ operation. $relu(x)$ is $max(x, 0)$. Here's the graph of $relu$:\n",
				"\n",
				"![relu](https://qph.fs.quoracdn.net/main-qimg-d23ac99265ab19599e71c9d1a3cb089a)\n",
				"\n",
				"Here are some other ***activation functions***, which we will learn about in the lecture:\n",
				"![act.fns](https://cdn-images-1.medium.com/max/1000/1*4ZEDRpFuCIpUjNgjDdT2Lg.png)"
			]
		},
		{
			"cell_type": "markdown",
			"metadata": {},
			"source": [
				"### Element-wise operations"
			]
		},
		{
			"cell_type": "markdown",
			"metadata": {},
			"source": [
				"The $relu$ operation and addition are element-wise operations: operations that are applied independently to each entry in the tensors being considered. If you want to write a naive Python implementation of an element-wise operation, you use a for loop, as in this naive implementation of an element-wise relu operation:"
			]
		},
		{
			"cell_type": "code",
			"execution_count": null,
			"metadata": {},
			"outputs": [],
			"source": [
				"import numpy as np\n",
				"\n",
				"def naive_relu(x):\n",
				"    assert len(x.shape) == 2       # x should be 2D tensors\n",
				"    r = np.array(x.shape)          # create an result tensor of same shape\n",
				"\n",
				"    for i in range(x.shape[0]):\n",
				"        for j in range(x.shape[1]):\n",
				"            r[i, j] = max(x[i, j], 0)\n",
				"    return r"
			]
		},
		{
			"cell_type": "markdown",
			"metadata": {},
			"source": [
				"You do the same for addition:"
			]
		},
		{
			"cell_type": "code",
			"execution_count": null,
			"metadata": {},
			"outputs": [],
			"source": [
				"def naive_add(x, y):\n",
				"  assert len(x.shape) == 2      # x and y are 2D tensors\n",
				"  assert x.shape == y.shape\n",
				"  r = np.array(x.shape)          # create an result tensor of same shape\n",
				"\n",
				"  for i in range(x.shape[0]):\n",
				"    for j in range(x.shape[1]):\n",
				"      r[i, j] = x[i, j] + y[i, j]\n",
				"  return r"
			]
		},
		{
			"cell_type": "markdown",
			"metadata": {},
			"source": [
				"On the same principle, you can do element-wise multiplication, subtraction, and so on.\n",
				"\n",
				"In practice, when dealing with Numpy arrays, these operations are available as well-optimized built-in Numpy functions. These are low-level, highly parallel, efficient tensor-manipulation routines that are typically implemented in Fortran or C.\n",
				"\n",
				"So, in Numpy, you can do the following element-wise operation, and it will be blazing\n",
				"fast:\n",
				"```python\n",
				"import numpy as np\n",
				"z = x + y                   # --> Element-wise addition\n",
				"z = np.maximum(z, 0.)       # --> Element-wise relu\n",
				"```"
			]
		},
		{
			"cell_type": "markdown",
			"metadata": {},
			"source": [
				"### Tensor dot"
			]
		},
		{
			"cell_type": "markdown",
			"metadata": {},
			"source": [
				"The dot operation, also called a tensor product (not to be confused with an elementwise product) is the most common, most useful tensor operation. Contrary to element-wise operations, it combines entries in the input tensors. An element-wise product is done with the $*$ operator in Numpy, Keras, and TensorFlow. $dot$ uses a different syntax in TensorFlow, but in both Numpy and Keras it’s done using the standard $dot$ operator:\n",
				"\n",
				"```\n",
				"import numpy as np\n",
				"z = np.dot(x, y)\n",
				"```\n",
				"\n",
				"We know that the dot product between two vectors is a scalar and that only vectors with the same number of elements are compatible for a dot product.\n"
			]
		},
		{
			"cell_type": "code",
			"execution_count": null,
			"metadata": {},
			"outputs": [
				{
					"ename": "ValueError",
					"evalue": "ignored",
					"output_type": "error",
					"traceback": [
						"\u001b[0;31m---------------------------------------------------------------------------\u001b[0m",
						"\u001b[0;31mValueError\u001b[0m                                Traceback (most recent call last)",
						"\u001b[0;32m<ipython-input-26-5a67467f60b3>\u001b[0m in \u001b[0;36m<module>\u001b[0;34m()\u001b[0m\n\u001b[1;32m      2\u001b[0m \u001b[0mx\u001b[0m \u001b[0;34m=\u001b[0m \u001b[0mnp\u001b[0m\u001b[0;34m.\u001b[0m\u001b[0marray\u001b[0m\u001b[0;34m(\u001b[0m\u001b[0;34m[\u001b[0m\u001b[0;36m1\u001b[0m\u001b[0;34m,\u001b[0m\u001b[0;36m2\u001b[0m\u001b[0;34m,\u001b[0m\u001b[0;36m3\u001b[0m\u001b[0;34m]\u001b[0m\u001b[0;34m)\u001b[0m   \u001b[0;31m# has shape (3,)\u001b[0m\u001b[0;34m\u001b[0m\u001b[0;34m\u001b[0m\u001b[0m\n\u001b[1;32m      3\u001b[0m \u001b[0my\u001b[0m \u001b[0;34m=\u001b[0m \u001b[0mnp\u001b[0m\u001b[0;34m.\u001b[0m\u001b[0marray\u001b[0m\u001b[0;34m(\u001b[0m\u001b[0;34m[\u001b[0m\u001b[0;36m2\u001b[0m\u001b[0;34m,\u001b[0m\u001b[0;36m1\u001b[0m\u001b[0;34m]\u001b[0m\u001b[0;34m)\u001b[0m     \u001b[0;31m# has shape (2,)\u001b[0m\u001b[0;34m\u001b[0m\u001b[0;34m\u001b[0m\u001b[0m\n\u001b[0;32m----> 4\u001b[0;31m \u001b[0mnp\u001b[0m\u001b[0;34m.\u001b[0m\u001b[0mdot\u001b[0m\u001b[0;34m(\u001b[0m\u001b[0mx\u001b[0m\u001b[0;34m,\u001b[0m\u001b[0my\u001b[0m\u001b[0;34m)\u001b[0m             \u001b[0;31m# Will fail due to mismatching shapes\u001b[0m\u001b[0;34m\u001b[0m\u001b[0;34m\u001b[0m\u001b[0m\n\u001b[0m",
						"\u001b[0;32m<__array_function__ internals>\u001b[0m in \u001b[0;36mdot\u001b[0;34m(*args, **kwargs)\u001b[0m\n",
						"\u001b[0;31mValueError\u001b[0m: shapes (3,) and (2,) not aligned: 3 (dim 0) != 2 (dim 0)"
					]
				}
			],
			"source": [
				"x = np.array([1,2,3])   # has shape (3,)\n",
				"y = np.array([2,1])     # has shape (2,)\n",
				"np.dot(x,y)             # Will fail due to mismatching shapes"
			]
		},
		{
			"cell_type": "markdown",
			"metadata": {},
			"source": [
				"You can also take the dot product between a matrix $X$ and a vector $y$, returning the matrix-vector-product:"
			]
		},
		{
			"cell_type": "code",
			"execution_count": null,
			"metadata": {},
			"outputs": [
				{
					"data": {
						"text/plain": [
							"array([ 8, 16])"
						]
					},
					"execution_count": 27,
					"metadata": {},
					"output_type": "execute_result"
				}
			],
			"source": [
				"X = np.array([[1,2],\n",
				"              [3,4]])    # has shape (2,2)\n",
				"\n",
				"y = np.array([0, 4])     # has shape (2,)\n",
				"np.dot(X,y)"
			]
		},
		{
			"cell_type": "markdown",
			"metadata": {},
			"source": [
				"Note that as soon as one of the two tensors has an `ndim` greater than 1, $dot$ is no longer symmetric, which is to say that $dot(x, y)$ isn’t the same as $dot(y, x)$:"
			]
		},
		{
			"cell_type": "code",
			"execution_count": null,
			"metadata": {},
			"outputs": [
				{
					"name": "stdout",
					"output_type": "stream",
					"text": [
						"Dot product of X and y: [ 8 16]\n",
						"Dot product of y and X: [12 16] equals dot product of X transposed and y: [12 16]\n"
					]
				}
			],
			"source": [
				"print(f\"Dot product of X and y: {np.dot(X, y)}\\n\"\n",
				"      f\"Dot product of y and X: {np.dot(y, X)} equals dot product of X transposed and y: {np.dot(X.T, y)}\")"
			]
		},
		{
			"cell_type": "markdown",
			"metadata": {},
			"source": [
				"Of course, a dot product generalizes to tensors with an arbitrary number of axes. The most common applications may be the dot product between two matrices. You can take the dot product of two matrices $X$ and $Y$ $(dot(X, Y))$ if and only if `X.shape[1] == Y.shape[0]`. The result is a matrix with shape `(X.shape[0], Y.shape[1])`, where the coefficients are the vector products between the rows of $X$ and the columns of $Y$.\n",
				"\n",
				"To understand dot-product shape compatibility, it helps to visualize the input and output tensors by aligning them as shown in the following figure: \n",
				"\n",
				"![tensor-dot](https://4.bp.blogspot.com/-Gt2dGWco0as/XCboOkqfkVI/AAAAAAAAb1w/jh5PcvX-AFY3Zrk1lB7u307t52m7QyaAwCLcBGAs/s1600/%25E3%2582%25B9%25E3%2582%25AF%25E3%2583%25AA%25E3%2583%25BC%25E3%2583%25B3%25E3%2582%25B7%25E3%2583%25A7%25E3%2583%2583%25E3%2583%2588%2B2018-12-29%2B12.21.10.png)\n",
				"\n",
				"\n",
				"More generally, you can take the dot product between higher-dimensional tensors, following the same rules for shape compatibility as outlined earlier for the 2D case:\n",
				"\n",
				"> $(a, b, c, d) . (d,)$ -> $(a, b, c)$\n",
				"\n",
				"> $(a, b, c, d) . (d, e)$ -> $(a, b, c, e)$\n",
				"\n",
				"And so on."
			]
		},
		{
			"cell_type": "markdown",
			"metadata": {},
			"source": [
				"### Tensor reshaping"
			]
		},
		{
			"cell_type": "markdown",
			"metadata": {},
			"source": [
				"A third type of tensor operation that’s essential to understand is ***tensor reshaping***. Although it wasn’t used in the Dense layers in our first neural network example, we use it when we preprocess the image data before feeding it into our network:\n",
				"\n",
				"> `train_images = train_images.reshape((60000, 28 * 28))`\n",
				"\n",
				"Reshaping a tensor means rearranging its rows and columns to match a target shape. Naturally, the reshaped tensor has the same total number of coefficients as the initial tensor. Reshaping is best understood via simple examples:"
			]
		},
		{
			"cell_type": "code",
			"execution_count": null,
			"metadata": {},
			"outputs": [
				{
					"data": {
						"text/plain": [
							"(3, 2)"
						]
					},
					"execution_count": 31,
					"metadata": {},
					"output_type": "execute_result"
				}
			],
			"source": [
				"x = np.array([[0., 1.],\n",
				"              [2., 3.],\n",
				"              [4., 5.]])\n",
				"\n",
				"x.shape"
			]
		},
		{
			"cell_type": "code",
			"execution_count": null,
			"metadata": {},
			"outputs": [
				{
					"data": {
						"text/plain": [
							"array([[0.],\n",
							"       [1.],\n",
							"       [2.],\n",
							"       [3.],\n",
							"       [4.],\n",
							"       [5.]])"
						]
					},
					"execution_count": 32,
					"metadata": {},
					"output_type": "execute_result"
				}
			],
			"source": [
				"x = x.reshape((6, 1))\n",
				"x"
			]
		},
		{
			"cell_type": "code",
			"execution_count": null,
			"metadata": {},
			"outputs": [
				{
					"data": {
						"text/plain": [
							"array([[0., 1., 2.],\n",
							"       [3., 4., 5.]])"
						]
					},
					"execution_count": 33,
					"metadata": {},
					"output_type": "execute_result"
				}
			],
			"source": [
				"x = x.reshape((2, 3))\n",
				"x"
			]
		},
		{
			"cell_type": "markdown",
			"metadata": {},
			"source": [
				"A special case of reshaping that’s commonly encountered is $transposition$. Transposing a matrix means exchanging its rows and its columns, so that `X[i, :]` becomes `X[:, i]`:"
			]
		},
		{
			"cell_type": "code",
			"execution_count": null,
			"metadata": {},
			"outputs": [],
			"source": [
				"x = np.zeros((300, 20))\n",
				"x.shape"
			]
		},
		{
			"cell_type": "markdown",
			"metadata": {},
			"source": [
				"The transposed of this matrix is easily expressed via `x.T`:"
			]
		},
		{
			"cell_type": "code",
			"execution_count": null,
			"metadata": {},
			"outputs": [],
			"source": [
				"x.T.shape"
			]
		}
	],
	"metadata": {},
	"nbformat": 4,
	"nbformat_minor": 0
}