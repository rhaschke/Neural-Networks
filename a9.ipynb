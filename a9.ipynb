{
 "cells": [
  {
   "cell_type": "markdown",
   "metadata": {},
   "source": [
    "# Vision Applications\n",
    "\n",
    "In this task you should familiarize yourself with a specific vision network of your choice.\n",
    "\n",
    "1. Get the network running on sample images from the training/test set (or optionally from your own webcam)\n",
    "2. Find and read the corresponding paper\n",
    "3. Summarize key components of the paper in a short talk, using 3-4 slides\n",
    "\n",
    "As a starting point, here is a selection of network models for vision:\n",
    "- [various classical and recent network models in Keras](https://keras.io/api/applications)\n",
    "- [(vision) applications in Keras other than classification](https://keras.io/examples)\n",
    "- YOLO v4, a decent, realtime capable classification network: [blog post](https://towardsdatascience.com/yolo-v4-optimal-speed-accuracy-for-object-detection-79896ed47b50), [Colab notebook](https://colab.research.google.com/drive/1PuI9bYeM8O1OA82pI12oGopRJJrLWfs9?usp=sharing)\n",
    "- Faster R-CNN, a decent, high-accuracy classificaton network: [blog post](https://towardsdatascience.com/faster-r-cnn-object-detection-implemented-by-keras-for-custom-data-from-googles-open-images-125f62b9141a)\n",
    "- [OpenFace](https://github.com/TadasBaltrusaitis/OpenFace): a tool for facial landmark detection, head pose estimation, facial action unit recognition, and eye-gaze estimation\n"
   ]
  },
  {
   "cell_type": "code",
   "execution_count": 17,
   "metadata": {},
   "outputs": [],
   "source": [
    "# This is some sample code, using OpenCV, to grab images from your webcam.\n",
    "# This requires the debian package python3-opencv\n",
    "\n",
    "import cv2\n",
    "\n",
    "window_name = 'web cam'\n",
    "cv2.namedWindow(window_name)  # create a named window\n",
    "cap = cv2.VideoCapture('/dev/video0')  # create a video grabber\n",
    "\n",
    "while(True):\n",
    "    ret, frame = cap.read()  # capture a single video frame\n",
    "    if not ret:  # break on error\n",
    "        print(\"Error grabbing an image frame\")\n",
    "        break\n",
    "\n",
    "    # Our operations on the frame come here\n",
    "    gray = cv2.cvtColor(frame, cv2.COLOR_BGR2GRAY)\n",
    "\n",
    "    # Display the image in our named window\n",
    "    cv2.imshow(window_name, frame)\n",
    "\n",
    "    # Cancel loop on keypresses 'q' or ESC within window\n",
    "    if (cv2.waitKey(10) & 0xFF) in [ord('q'), 27]:\n",
    "        break\n",
    "\n",
    "# When everything is done\n",
    "cap.release()  # release the capture device\n",
    "cv2.destroyAllWindows()  # and close all OpenCV windows"
   ]
  }
 ],
 "metadata": {
  "interpreter": {
   "hash": "e7370f93d1d0cde622a1f8e1c04877d8463912d04d973331ad4851f04de6915a"
  },
  "kernelspec": {
   "display_name": "Python 3.8.5 64-bit",
   "name": "python3"
  },
  "language_info": {
   "codemirror_mode": {
    "name": "ipython",
    "version": 3
   },
   "file_extension": ".py",
   "mimetype": "text/x-python",
   "name": "python",
   "nbconvert_exporter": "python",
   "pygments_lexer": "ipython3",
   "version": "3.8.5"
  },
  "orig_nbformat": 4
 },
 "nbformat": 4,
 "nbformat_minor": 2
}
