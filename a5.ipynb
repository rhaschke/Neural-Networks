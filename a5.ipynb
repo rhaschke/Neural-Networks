{
 "cells": [
  {
   "source": [
    "## Task 5.1 Gradients are row vectors\n",
    "\n",
    "Consider a function $f : \\mathbb R^{n×1} → \\mathbb R^{m×1}$ mapping n-dimensional column vectors onto m-dimensional column vectors.\n",
    "\n",
    "For any $\\mathbf x \\in \\mathbb R^{n×1}$, the derivative $f'(\\mathbf x)$ is characterized by its linear approximation property\n",
    "$$ f(\\mathbf x + \\mathbf h) \\approx f(\\mathbf x) + f'(\\mathbf x) \\cdot \\mathbf h $$\n",
    "for small $\\mathbf h \\in \\mathbb R^{n×1}$.\n",
    "\n",
    "Considering the dimension of the involved entities $\\mathbf x$, $\\mathbf h$, $f(\\mathbf x)$, and $f'(\\mathbf x)$, explain why the gradient, i.e. the derivative of a scalar function ($m=1$), is a row vector."
   ],
   "cell_type": "markdown",
   "metadata": {}
  },
  {
   "source": [
    "## Task 5.2 Gradient of a Bilinear form\n",
    "\n",
    "Let $\\mathbf x \\in \\mathbb R^n$ and $\\mathbf y \\in \\mathbb R^m$ be usual column vectors.\n",
    "The bilinear form $f(\\mathbf x, \\mathbf y, W) = \\mathbf x^t W \\mathbf y = \\sum_i x_i \\sum_j w_{ij} y_j$ yields a scalar.\n",
    "\n",
    "1. What's the correct dimension of $W$?\n",
    "2. Determine the dimension of the following derivatives:\n",
    "   1. $\\nabla_{\\mathbf x} f$  (standard row-vector gradient)\n",
    "   2. $\\nabla_{\\mathbf x^t} f \\equiv \\nabla^t_{\\mathbf x} f$  (column-vector gradient)\n",
    "   3. $\\nabla_{\\mathbf y} f$  (row-vector gradient)\n",
    "   4. $\\nabla_{\\mathbf y^t} f \\equiv \\nabla^t_{\\mathbf y} f$  (column-vector gradient)\n",
    "3. Compute the derivatives"
   ],
   "cell_type": "markdown",
   "metadata": {}
  },
  {
   "cell_type": "markdown",
   "metadata": {},
   "source": [
    "## Task 5.3 Computation Graph\n",
    "\n",
    "Consider the following computational graph:\n",
    "\n",
    "![https://github.com/rhaschke/Neural-Networks/blob/master/backprop.svg](https://raw.githubusercontent.com/rhaschke/Neural-Networks/master/backprop.svg)\n",
    "\n",
    "1. Write the computational graph as a formula: $y = $\n",
    "\n",
    "2. Perform a forward pass for the graph, starting with the given values for $\\mathbf W$, $\\mathbf x$, and $\\mathbf t$.\n",
    "Denote the results directly in the graph, above the connecting arrow lines.\n",
    "\n",
    "3. Determine the local gradients of all operation nodes, in component-wise notation, i.e.:\n",
    "\\begin{align}\n",
    "+: &\\qquad \\frac{\\partial e_i}{\\partial z_j} = \\delta_{ij} &\\quad &\\frac{\\partial e_i}{\\partial u_j} = \\delta_{ij} \\\\\n",
    "\\|\\cdot\\|^2: &\\\\\n",
    "\\times: &\\\\\n",
    "\\times\\text{-}1: &\\\\\n",
    "\\end{align}\n",
    "\n",
    "4. Perform a full backward-pass, denoting the results in the graph below the connecting arrow lines."
   ]
  }
 ],
 "metadata": {
  "language_info": {
   "codemirror_mode": {
    "name": "ipython",
    "version": 3
   },
   "file_extension": ".py",
   "mimetype": "text/x-python",
   "name": "python",
   "nbconvert_exporter": "python",
   "pygments_lexer": "ipython3",
   "version": "3.6.9-final"
  },
  "orig_nbformat": 2,
  "kernelspec": {
   "name": "python3",
   "display_name": "Python 3.6.9 64-bit"
  }
 },
 "nbformat": 4,
 "nbformat_minor": 2
}