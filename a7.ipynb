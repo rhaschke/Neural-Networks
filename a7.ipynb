{
 "cells": [
  {
   "cell_type": "markdown",
   "metadata": {},
   "source": [
    "# Convolutional Neural Networks\n",
    "\n",
    "![LeNet5](https://engmrk.com/wp-content/uploads/2018/09/LeNet_Original_Image.jpg)\n",
    "\n",
    "Convolutional Neural Networks are particularly well suited for image classification. In https://www.tensorflow.org/tutorials/images/cnn and https://github.com/keras-team/keras/blob/master/examples/mnist_cnn.py some well performing examples are given. First, modify the network to include a\n",
    "single convolutional layer, a single pooling layer, and a single fully connected layer only.  \n",
    "Then, incrementally add more complexity and regularization, particularly:\n",
    "- consider the network architectures of LeNet5 (shown in the figure) and AlexNet.\n",
    "- try to further improve the test error\n",
    "  (Remember to only use your validation set to tweak your hyper parameters!)\n",
    "\n",
    "Record training and test accuracies with TensorBoard.  \n",
    "How many parameters have your networks, also compared to a standard 128-64-64-10 MLP network from last sheet?  \n",
    "How long does it take to train them?"
   ]
  }
 ],
 "metadata": {
  "language_info": {
   "codemirror_mode": {
    "name": "ipython",
    "version": 3
   },
   "file_extension": ".py",
   "mimetype": "text/x-python",
   "name": "python",
   "nbconvert_exporter": "python",
   "pygments_lexer": "ipython3",
   "version": 3
  },
  "orig_nbformat": 2,
  "accelerator": "GPU",
  "kernelspec": {
   "name": "python3",
   "display_name": "Python 3"
  }
 },
 "nbformat": 4,
 "nbformat_minor": 2
}